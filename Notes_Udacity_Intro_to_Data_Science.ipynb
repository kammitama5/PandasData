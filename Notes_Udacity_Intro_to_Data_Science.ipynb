{
 "cells": [
  {
   "cell_type": "code",
   "execution_count": null,
   "metadata": {
    "collapsed": true
   },
   "outputs": [],
   "source": [
    "import pandas as pd"
   ]
  },
  {
   "cell_type": "code",
   "execution_count": 1,
   "metadata": {
    "collapsed": true
   },
   "outputs": [],
   "source": [
    "# Data Acquisition\n",
    "# Accessing an API\n",
    "# Scraping a web page\n",
    "# Combine data from different formats\n"
   ]
  },
  {
   "cell_type": "code",
   "execution_count": 2,
   "metadata": {
    "collapsed": true
   },
   "outputs": [],
   "source": [
    "# CSV: Comma Separated Values\n"
   ]
  },
  {
   "cell_type": "code",
   "execution_count": 3,
   "metadata": {
    "collapsed": true
   },
   "outputs": [],
   "source": [
    "## Representing a CSV as a list of rows\n",
    "\n",
    "# Option 1: Each row is a list\n",
    "csv = [['A1', 'A2', 'A3'],\n",
    "      ['B2', 'B2', 'B3']]"
   ]
  },
  {
   "cell_type": "code",
   "execution_count": 4,
   "metadata": {
    "collapsed": false
   },
   "outputs": [
    {
     "data": {
      "text/plain": [
       "[['A1', 'A2', 'A3'], ['B2', 'B2', 'B3']]"
      ]
     },
     "execution_count": 4,
     "metadata": {},
     "output_type": "execute_result"
    }
   ],
   "source": [
    "csv"
   ]
  },
  {
   "cell_type": "code",
   "execution_count": 5,
   "metadata": {
    "collapsed": true
   },
   "outputs": [],
   "source": [
    "# Option 2: Each row is a dictionary\n",
    "# Works well if your csv has a header\n",
    "# Keys can be column names, fields can be values\n",
    "\n",
    "# Overall structure would be a list of dictionaries"
   ]
  },
  {
   "cell_type": "code",
   "execution_count": 6,
   "metadata": {
    "collapsed": false
   },
   "outputs": [
    {
     "data": {
      "text/plain": [
       "\"\\nimport unicodecsv\\n\\nenrollments = []\\nf - open('enrollments.csv', 'rb')\\nreader = unicodecsv.DictReader(f)\\n\\nfor row in reader:\\n    enrollments.append(row)\\n    \\nf.close()\\n\\nenrollments[0]\\n\""
      ]
     },
     "execution_count": 6,
     "metadata": {},
     "output_type": "execute_result"
    }
   ],
   "source": [
    "'''\n",
    "import unicodecsv\n",
    "\n",
    "enrollments = [] => create list of enrollments\n",
    "f - open('enrollments.csv', 'rb') => open the file => b flag changes doc\n",
    "reader = unicodecsv.DictReader(f) => dict since has header row\n",
    "\n",
    "for row in reader:\n",
    "    enrollments.append(row) => iterator used for loop to access each element once\n",
    "    \n",
    "    => you can only access iterator once\n",
    "    \n",
    "f.close() => close file\n",
    "\n",
    "enrollments[0] => output \n",
    "'''\n",
    "         "
   ]
  },
  {
   "cell_type": "code",
   "execution_count": 7,
   "metadata": {
    "collapsed": false
   },
   "outputs": [
    {
     "data": {
      "text/plain": [
       "\"\\nMore succinct version\\n\\nimport unicodecsv\\n\\nenrollments = []\\nwith open('enrollments.csv', 'rb') as f:\\n    reader = unicodecsv.DictReader(f)\\n    \\n    for row in reader:\\n        enrollments.append(row)\\n        \\nenrolmments[0]\\n\\n\\n\""
      ]
     },
     "execution_count": 7,
     "metadata": {},
     "output_type": "execute_result"
    }
   ],
   "source": [
    "'''\n",
    "More succinct version\n",
    "\n",
    "import unicodecsv\n",
    "\n",
    "enrollments = []\n",
    "with open('enrollments.csv', 'rb') as f:\n",
    "    reader = unicodecsv.DictReader(f)\n",
    "    \n",
    "    for row in reader:\n",
    "        enrollments.append(row)\n",
    "        \n",
    "enrolmments[0]\n",
    "\n",
    "\n",
    "'''"
   ]
  },
  {
   "cell_type": "code",
   "execution_count": null,
   "metadata": {
    "collapsed": true
   },
   "outputs": [],
   "source": [
    "'''\n",
    "=> converting iterator to a list\n",
    "\n",
    "\n",
    "import unicodecsv\n",
    "\n",
    "with open('enrollments.csv', 'rb') as f:\n",
    "    reader = unicodecsv.DictReader(f)\n",
    "    enrollments = list(reader)\n",
    "        \n",
    "enrollments[0]\n",
    "    \n",
    "'''"
   ]
  }
 ],
 "metadata": {
  "kernelspec": {
   "display_name": "Python 3",
   "language": "python",
   "name": "python3"
  },
  "language_info": {
   "codemirror_mode": {
    "name": "ipython",
    "version": 3
   },
   "file_extension": ".py",
   "mimetype": "text/x-python",
   "name": "python",
   "nbconvert_exporter": "python",
   "pygments_lexer": "ipython3",
   "version": "3.5.2"
  }
 },
 "nbformat": 4,
 "nbformat_minor": 1
}
